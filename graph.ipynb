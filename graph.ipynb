{
 "cells": [
  {
   "cell_type": "code",
   "execution_count": null,
   "id": "985ab8fc",
   "metadata": {},
   "outputs": [],
   "source": [
    "from pyspark import SparkContext\n",
    "sc=SparkContext(master=\"local[*]\", appName=\"graph\")\n"
   ]
  },
  {
   "cell_type": "markdown",
   "id": "bd749726",
   "metadata": {},
   "source": [
    "# VERSION 1 / Sans accumulateur"
   ]
  },
  {
   "cell_type": "code",
   "execution_count": 119,
   "id": "3628b0e9",
   "metadata": {},
   "outputs": [],
   "source": [
    "file=sc.textFile('./graph_input.txt')"
   ]
  },
  {
   "cell_type": "code",
   "execution_count": 120,
   "id": "d6430f67",
   "metadata": {},
   "outputs": [
    {
     "data": {
      "text/plain": [
       "['1\\t2,5|GRIS|0',\n",
       " '2\\t3,4|BLANC|-1',\n",
       " '3\\t6|BLANC|-1',\n",
       " '4\\t|BLANC|-1',\n",
       " '5\\t6|BLANC|-1',\n",
       " '6\\t|BLANC|-1']"
      ]
     },
     "execution_count": 120,
     "metadata": {},
     "output_type": "execute_result"
    }
   ],
   "source": [
    "file.collect()"
   ]
  },
  {
   "cell_type": "code",
   "execution_count": 121,
   "id": "3102c0c6",
   "metadata": {},
   "outputs": [
    {
     "data": {
      "text/plain": [
       "[['1', '2,5|GRIS|0'],\n",
       " ['2', '3,4|BLANC|-1'],\n",
       " ['3', '6|BLANC|-1'],\n",
       " ['4', '|BLANC|-1'],\n",
       " ['5', '6|BLANC|-1'],\n",
       " ['6', '|BLANC|-1']]"
      ]
     },
     "execution_count": 121,
     "metadata": {},
     "output_type": "execute_result"
    }
   ],
   "source": [
    "graph =file.flatMap(lambda x: [x.split(\"\\t\")])\n",
    "graph.collect()"
   ]
  },
  {
   "cell_type": "code",
   "execution_count": 122,
   "id": "22f81750",
   "metadata": {},
   "outputs": [
    {
     "data": {
      "text/plain": [
       "[[['1'], ['2,5', 'GRIS', '0']],\n",
       " [['2'], ['3,4', 'BLANC', '-1']],\n",
       " [['3'], ['6', 'BLANC', '-1']],\n",
       " [['4'], ['', 'BLANC', '-1']],\n",
       " [['5'], ['6', 'BLANC', '-1']],\n",
       " [['6'], ['', 'BLANC', '-1']]]"
      ]
     },
     "execution_count": 122,
     "metadata": {},
     "output_type": "execute_result"
    }
   ],
   "source": [
    "graph1 =graph.flatMap(lambda x: [[[x[0]], x[1].split(\"|\")]])\n",
    "graph1.collect()"
   ]
  },
  {
   "cell_type": "code",
   "execution_count": 28,
   "id": "39666d64",
   "metadata": {},
   "outputs": [
    {
     "data": {
      "text/plain": [
       "[['2', '5'], ['3', '4'], ['6'], [''], ['6'], ['']]"
      ]
     },
     "execution_count": 28,
     "metadata": {},
     "output_type": "execute_result"
    }
   ],
   "source": [
    "#graph2=graph1.map(lambda x: x[1][0].split(\",\"))\n",
    "#graph2.collect()"
   ]
  },
  {
   "cell_type": "code",
   "execution_count": 155,
   "id": "f7ce6d4d",
   "metadata": {},
   "outputs": [
    {
     "data": {
      "text/plain": [
       "[['1', ['2,5', 'NOIR', 0]],\n",
       " ['2', ['', 'GRIS', 1]],\n",
       " ['5', ['', 'GRIS', 1]],\n",
       " ['2', ['3,4', 'BLANC', -1]],\n",
       " ['3', ['6', 'BLANC', -1]],\n",
       " ['4', ['', 'BLANC', -1]],\n",
       " ['5', ['6', 'BLANC', -1]],\n",
       " ['6', ['', 'BLANC', -1]]]"
      ]
     },
     "execution_count": 155,
     "metadata": {},
     "output_type": "execute_result"
    }
   ],
   "source": [
    "#LANCEMENT 1 \n",
    "\n",
    "def depth(g):\n",
    "    l = [] \n",
    "    k = g[0]# cle => nom du noeud\n",
    "    val = g[1] # valeur du noeud  \n",
    "    #node = g[1][0].split(\",\")\n",
    "    nd = g[1][0]# terminaison(s) du noeud \n",
    "    for v in g[0]:\n",
    "        if val[1] == 'GRIS':\n",
    "            # return  val[0], 'NOIR', int(val[2])\n",
    "            l.append([ k[0]  , [val[0], 'NOIR', int(val[2])]])\n",
    "            if nd > \"\":\n",
    "                node = g[1][0].split(\",\")\n",
    "                for n in node:\n",
    "                    l.append([n,['', 'GRIS', int(val[2])+1]])\n",
    "        else: \n",
    "            l.append([ k[0], [val[0], val[1], int(val[2])]] )\n",
    "    return l\n",
    "\n",
    "graph2=graph1.flatMap(depth)\n",
    "graph2.collect()"
   ]
  },
  {
   "cell_type": "code",
   "execution_count": 156,
   "id": "0e9ea315",
   "metadata": {},
   "outputs": [
    {
     "data": {
      "text/plain": [
       "[('1', ['2,5', 'NOIR', 0]),\n",
       " ('4', ['', 'BLANC', -1]),\n",
       " ('2', ('3,4', 'GRIS', 1)),\n",
       " ('5', ('6', 'GRIS', 1)),\n",
       " ('3', ['6', 'BLANC', -1]),\n",
       " ('6', ['', 'BLANC', -1])]"
      ]
     },
     "execution_count": 156,
     "metadata": {},
     "output_type": "execute_result"
    }
   ],
   "source": [
    "def reducer(a,b):\n",
    "    if a[2]>b[2]:\n",
    "        return b[0],'GRIS', a[2]\n",
    "    else:\n",
    "        return a[0],'GRIS', b[2]\n",
    "        \n",
    "graph3 = graph2.reduceByKey(reducer)\n",
    "graph3.collect()"
   ]
  },
  {
   "cell_type": "code",
   "execution_count": 157,
   "id": "acc4ad3c",
   "metadata": {},
   "outputs": [
    {
     "data": {
      "text/plain": [
       "[['1', ['2,5', 'NOIR', 0]],\n",
       " ['4', ['', 'BLANC', -1]],\n",
       " ['2', ['3,4', 'NOIR', 1]],\n",
       " ['3', ['', 'GRIS', 2]],\n",
       " ['4', ['', 'GRIS', 2]],\n",
       " ['5', ['6', 'NOIR', 1]],\n",
       " ['6', ['', 'GRIS', 2]],\n",
       " ['3', ['6', 'BLANC', -1]],\n",
       " ['6', ['', 'BLANC', -1]]]"
      ]
     },
     "execution_count": 157,
     "metadata": {},
     "output_type": "execute_result"
    }
   ],
   "source": [
    "#LANCEMENT 2\n",
    "graph4=graph3.flatMap(depth)\n",
    "graph4.collect()"
   ]
  },
  {
   "cell_type": "code",
   "execution_count": 158,
   "id": "563ef7e0",
   "metadata": {},
   "outputs": [
    {
     "data": {
      "text/plain": [
       "[('1', ['2,5', 'NOIR', 0]),\n",
       " ('4', ('', 'GRIS', 2)),\n",
       " ('2', ['3,4', 'NOIR', 1]),\n",
       " ('3', ('6', 'GRIS', 2)),\n",
       " ('5', ['6', 'NOIR', 1]),\n",
       " ('6', ('', 'GRIS', 2))]"
      ]
     },
     "execution_count": 158,
     "metadata": {},
     "output_type": "execute_result"
    }
   ],
   "source": [
    "graph5 = graph4.reduceByKey(reducer)\n",
    "graph5.collect()"
   ]
  },
  {
   "cell_type": "code",
   "execution_count": 159,
   "id": "842321fc",
   "metadata": {},
   "outputs": [
    {
     "data": {
      "text/plain": [
       "[['1', ['2,5', 'NOIR', 0]],\n",
       " ['4', ['', 'BLANC', -1]],\n",
       " ['2', ['3,4', 'NOIR', 1]],\n",
       " ['3', ['', 'NOIR', 2]],\n",
       " ['4', ['', 'NOIR', 2]],\n",
       " ['5', ['6', 'NOIR', 1]],\n",
       " ['6', ['', 'NOIR', 2]],\n",
       " ['3', ['6', 'BLANC', -1]],\n",
       " ['6', ['', 'BLANC', -1]]]"
      ]
     },
     "execution_count": 159,
     "metadata": {},
     "output_type": "execute_result"
    }
   ],
   "source": [
    "#LANCEMENT 3\n",
    "graph5=graph4.flatMap(depth)\n",
    "graph5.collect()"
   ]
  },
  {
   "cell_type": "code",
   "execution_count": 160,
   "id": "c728c32a",
   "metadata": {},
   "outputs": [
    {
     "data": {
      "text/plain": [
       "[('1', ['2,5', 'NOIR', 0]),\n",
       " ('4', ('', 'GRIS', 2)),\n",
       " ('2', ['3,4', 'NOIR', 1]),\n",
       " ('3', ('6', 'GRIS', 2)),\n",
       " ('5', ['6', 'NOIR', 1]),\n",
       " ('6', ('', 'GRIS', 2))]"
      ]
     },
     "execution_count": 160,
     "metadata": {},
     "output_type": "execute_result"
    }
   ],
   "source": [
    "graph6 = graph5.reduceByKey(reducer)\n",
    "graph6.collect()"
   ]
  },
  {
   "cell_type": "markdown",
   "id": "1bd07619",
   "metadata": {},
   "source": [
    "# VERSION 2 / Avec accumulateur dans mapper"
   ]
  },
  {
   "cell_type": "code",
   "execution_count": 167,
   "id": "c675ec5e",
   "metadata": {},
   "outputs": [],
   "source": [
    "file=sc.textFile('./graph_input.txt')\n",
    "graph =file.flatMap(lambda x: [x.split(\"\\t\")])\n",
    "graph1 =graph.flatMap(lambda x: [[[x[0]], x[1].split(\"|\")]])"
   ]
  },
  {
   "cell_type": "code",
   "execution_count": 193,
   "id": "481ca5fe",
   "metadata": {},
   "outputs": [],
   "source": [
    "#mapper\n",
    "\n",
    "# Compteur graphe non noir\n",
    "nb_no_blck =sc.accumulator(0)\n",
    "\n",
    "def mapper(g):\n",
    "    global nb_no_blck\n",
    "    l = [] \n",
    "    k = g[0]# cle => nom du noeud\n",
    "    val = g[1] # valeur du noeud  \n",
    "    nd = g[1][0]# terminaison(s) du noeud \n",
    "    for v in g[0]:\n",
    "        if val[1] != 'NOIR':\n",
    "            nb_no_blck.add(1)\n",
    "        if val[1] == 'GRIS':\n",
    "            l.append([ k[0]  , [val[0], 'NOIR', int(val[2])]])\n",
    "            if nd > \"\":\n",
    "                node = g[1][0].split(\",\")\n",
    "                for n in node:\n",
    "                    l.append([n,['', 'GRIS', int(val[2])+1]])\n",
    "        else: \n",
    "            l.append([ k[0], [val[0], val[1], int(val[2])]] )\n",
    "    return l"
   ]
  },
  {
   "cell_type": "code",
   "execution_count": 194,
   "id": "0b82e2f2",
   "metadata": {},
   "outputs": [],
   "source": [
    "#reducer\n",
    "def reducer(a,b):\n",
    "    if a[2]>b[2]:\n",
    "        return b[0],'GRIS', a[2]\n",
    "    else:\n",
    "        return a[0],'GRIS', b[2]"
   ]
  },
  {
   "cell_type": "code",
   "execution_count": 171,
   "id": "3660dcca",
   "metadata": {},
   "outputs": [],
   "source": [
    "graph2=graph1.flatMap(mapper)\n",
    "graph3 = graph2.reduceByKey(reducer)"
   ]
  },
  {
   "cell_type": "code",
   "execution_count": 172,
   "id": "a895a84d",
   "metadata": {},
   "outputs": [
    {
     "data": {
      "text/plain": [
       "[('1', ['2,5', 'NOIR', 0]),\n",
       " ('4', ['', 'BLANC', -1]),\n",
       " ('2', ('3,4', 'GRIS', 1)),\n",
       " ('5', ('6', 'GRIS', 1)),\n",
       " ('3', ['6', 'BLANC', -1]),\n",
       " ('6', ['', 'BLANC', -1])]"
      ]
     },
     "execution_count": 172,
     "metadata": {},
     "output_type": "execute_result"
    }
   ],
   "source": [
    "graph3.collect()"
   ]
  },
  {
   "cell_type": "code",
   "execution_count": 204,
   "id": "ae7c179d",
   "metadata": {},
   "outputs": [],
   "source": [
    "nb_no_blck = sc.accumulator(1)\n",
    "\n",
    "def main():\n",
    "    file=sc.textFile('./graph_input.txt')\n",
    "    graph =file.flatMap(lambda x: [x.split(\"\\t\")])\n",
    "    graph1 = graph.flatMap(lambda x: [[[x[0]], x[1].split(\"|\")]])\n",
    "    #nb_no_blck = sc.accumulator(1)\n",
    "    tmp = 0\n",
    "    while nb_no_blck.value > tmp:\n",
    "        tmp = nb_no_blck.value # variable temporaire\n",
    "        graph2 = graph1.flatMap(mapper)# transformation\n",
    "        graph3 = graph2.reduceByKey(reducer) # transformation\n",
    "        graph3.count()  # action\n",
    "        graph1 = graph3\n",
    "        print(f\"var temp ==> {tmp}\")\n",
    "        print(f\"var nb_no_blck ==> {nb_no_blck.value}\")\n",
    "    return graph3"
   ]
  },
  {
   "cell_type": "code",
   "execution_count": 205,
   "id": "3eb3bc30",
   "metadata": {},
   "outputs": [
    {
     "name": "stdout",
     "output_type": "stream",
     "text": [
      "var temp ==> 1\n",
      "var nb_no_blck ==> 7\n",
      "var temp ==> 7\n",
      "var nb_no_blck ==> 12\n",
      "var temp ==> 12\n",
      "var nb_no_blck ==> 15\n",
      "var temp ==> 15\n",
      "var nb_no_blck ==> 16\n",
      "var temp ==> 16\n",
      "var nb_no_blck ==> 16\n"
     ]
    },
    {
     "data": {
      "text/plain": [
       "[('1', ['2,5', 'NOIR', 0]),\n",
       " ('4', ['', 'NOIR', 2]),\n",
       " ('2', ['3,4', 'NOIR', 1]),\n",
       " ('3', ['6', 'NOIR', 2]),\n",
       " ('6', ['', 'NOIR', 3]),\n",
       " ('5', ['6', 'NOIR', 1])]"
      ]
     },
     "execution_count": 205,
     "metadata": {},
     "output_type": "execute_result"
    }
   ],
   "source": [
    "graph = main()\n",
    "graph.collect()"
   ]
  },
  {
   "cell_type": "markdown",
   "id": "82d11acb",
   "metadata": {},
   "source": [
    "# VERSION 3 / Avec accumulateur dans reducer"
   ]
  },
  {
   "cell_type": "code",
   "execution_count": 207,
   "id": "3c067d0e",
   "metadata": {},
   "outputs": [],
   "source": [
    "file=sc.textFile('./graph_input.txt')\n",
    "graph =file.flatMap(lambda x: [x.split(\"\\t\")])\n",
    "graph1 =graph.flatMap(lambda x: [[[x[0]], x[1].split(\"|\")]])"
   ]
  },
  {
   "cell_type": "code",
   "execution_count": 208,
   "id": "868095a6",
   "metadata": {},
   "outputs": [],
   "source": [
    "#mapper\n",
    "\n",
    "# Compteur graphe non noir\n",
    "nb_no_blck =sc.accumulator(0)\n",
    "\n",
    "def mapper(g):\n",
    "    l = [] \n",
    "    k = g[0]# cle => nom du noeud\n",
    "    val = g[1] # valeur du noeud  \n",
    "    nd = g[1][0]# terminaison(s) du noeud \n",
    "    for v in g[0]:\n",
    "        if val[1] == 'GRIS':\n",
    "            l.append([ k[0]  , [val[0], 'NOIR', int(val[2])]])\n",
    "            if nd > \"\":\n",
    "                node = g[1][0].split(\",\")\n",
    "                for n in node:\n",
    "                    l.append([n,['', 'GRIS', int(val[2])+1]])\n",
    "        else: \n",
    "            l.append([ k[0], [val[0], val[1], int(val[2])]] )\n",
    "    return l"
   ]
  },
  {
   "cell_type": "code",
   "execution_count": 209,
   "id": "643d7a3e",
   "metadata": {},
   "outputs": [],
   "source": [
    "#reducer\n",
    "def reducer(a,b):\n",
    "    global nb_no_blck\n",
    "    if a[2]>b[2]:\n",
    "        nb_no_blck.add(1)\n",
    "        return b[0],'GRIS', a[2]\n",
    "    else:\n",
    "        nb_no_blck.add(1)\n",
    "        return a[0],'GRIS', b[2]"
   ]
  },
  {
   "cell_type": "code",
   "execution_count": 210,
   "id": "dc0d551f",
   "metadata": {},
   "outputs": [],
   "source": [
    "nb_no_blck = sc.accumulator(1)\n",
    "\n",
    "def main():\n",
    "    file=sc.textFile('./graph_input.txt')\n",
    "    graph =file.flatMap(lambda x: [x.split(\"\\t\")])\n",
    "    graph1 = graph.flatMap(lambda x: [[[x[0]], x[1].split(\"|\")]])\n",
    "    #nb_no_blck = sc.accumulator(1)\n",
    "    tmp = 0\n",
    "    while nb_no_blck.value > tmp:\n",
    "        tmp = nb_no_blck.value # variable temporaire\n",
    "        graph2 = graph1.flatMap(mapper)# transformation\n",
    "        graph3 = graph2.reduceByKey(reducer) # transformation\n",
    "        graph3.count()  # action\n",
    "        graph1 = graph3\n",
    "        print(f\"var temp ==> {tmp}\")\n",
    "        print(f\"var nb_no_blck ==> {nb_no_blck.value}\")\n",
    "    return graph3"
   ]
  },
  {
   "cell_type": "code",
   "execution_count": 211,
   "id": "697a9d0b",
   "metadata": {},
   "outputs": [
    {
     "name": "stdout",
     "output_type": "stream",
     "text": [
      "var temp ==> 1\n",
      "var nb_no_blck ==> 3\n",
      "var temp ==> 3\n",
      "var nb_no_blck ==> 7\n",
      "var temp ==> 7\n",
      "var nb_no_blck ==> 9\n",
      "var temp ==> 9\n",
      "var nb_no_blck ==> 9\n"
     ]
    },
    {
     "data": {
      "text/plain": [
       "[('1', ['2,5', 'NOIR', 0]),\n",
       " ('4', ['', 'NOIR', 2]),\n",
       " ('2', ['3,4', 'NOIR', 1]),\n",
       " ('3', ['6', 'NOIR', 2]),\n",
       " ('6', ['', 'NOIR', 3]),\n",
       " ('5', ['6', 'NOIR', 1])]"
      ]
     },
     "execution_count": 211,
     "metadata": {},
     "output_type": "execute_result"
    }
   ],
   "source": [
    "graph = main()\n",
    "graph.collect()"
   ]
  },
  {
   "cell_type": "code",
   "execution_count": null,
   "id": "211fa1be",
   "metadata": {},
   "outputs": [],
   "source": []
  }
 ],
 "metadata": {
  "kernelspec": {
   "display_name": "Python 3 (ipykernel)",
   "language": "python",
   "name": "python3"
  },
  "language_info": {
   "codemirror_mode": {
    "name": "ipython",
    "version": 3
   },
   "file_extension": ".py",
   "mimetype": "text/x-python",
   "name": "python",
   "nbconvert_exporter": "python",
   "pygments_lexer": "ipython3",
   "version": "3.7.9"
  }
 },
 "nbformat": 4,
 "nbformat_minor": 5
}
