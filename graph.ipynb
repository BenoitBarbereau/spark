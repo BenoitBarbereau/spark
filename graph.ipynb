{
 "cells": [
  {
   "cell_type": "code",
   "execution_count": null,
   "id": "a66c26bc",
   "metadata": {},
   "outputs": [],
   "source": [
    "from pyspark import SparkContext\n",
    "sc=SparkContext(master=\"local[*]\", appName=\"graph\")\n"
   ]
  },
  {
   "cell_type": "markdown",
   "id": "50dd8aca",
   "metadata": {},
   "source": [
    "# VERSION 1 / Sans accumulateur"
   ]
  },
  {
   "cell_type": "code",
   "execution_count": 119,
   "id": "13ac8f46",
   "metadata": {},
   "outputs": [],
   "source": [
    "file=sc.textFile('./graph_input.txt')"
   ]
  },
  {
   "cell_type": "code",
   "execution_count": 120,
   "id": "43b45295",
   "metadata": {},
   "outputs": [
    {
     "data": {
      "text/plain": [
       "['1\\t2,5|GRIS|0',\n",
       " '2\\t3,4|BLANC|-1',\n",
       " '3\\t6|BLANC|-1',\n",
       " '4\\t|BLANC|-1',\n",
       " '5\\t6|BLANC|-1',\n",
       " '6\\t|BLANC|-1']"
      ]
     },
     "execution_count": 120,
     "metadata": {},
     "output_type": "execute_result"
    }
   ],
   "source": [
    "file.collect()"
   ]
  },
  {
   "cell_type": "code",
   "execution_count": 121,
   "id": "5c29794a",
   "metadata": {},
   "outputs": [
    {
     "data": {
      "text/plain": [
       "[['1', '2,5|GRIS|0'],\n",
       " ['2', '3,4|BLANC|-1'],\n",
       " ['3', '6|BLANC|-1'],\n",
       " ['4', '|BLANC|-1'],\n",
       " ['5', '6|BLANC|-1'],\n",
       " ['6', '|BLANC|-1']]"
      ]
     },
     "execution_count": 121,
     "metadata": {},
     "output_type": "execute_result"
    }
   ],
   "source": [
    "graph =file.flatMap(lambda x: [x.split(\"\\t\")])\n",
    "graph.collect()"
   ]
  },
  {
   "cell_type": "code",
   "execution_count": 122,
   "id": "fb7c9bba",
   "metadata": {},
   "outputs": [
    {
     "data": {
      "text/plain": [
       "[[['1'], ['2,5', 'GRIS', '0']],\n",
       " [['2'], ['3,4', 'BLANC', '-1']],\n",
       " [['3'], ['6', 'BLANC', '-1']],\n",
       " [['4'], ['', 'BLANC', '-1']],\n",
       " [['5'], ['6', 'BLANC', '-1']],\n",
       " [['6'], ['', 'BLANC', '-1']]]"
      ]
     },
     "execution_count": 122,
     "metadata": {},
     "output_type": "execute_result"
    }
   ],
   "source": [
    "graph1 =graph.flatMap(lambda x: [[[x[0]], x[1].split(\"|\")]])\n",
    "graph1.collect()"
   ]
  },
  {
   "cell_type": "code",
   "execution_count": 28,
   "id": "8baefd7f",
   "metadata": {},
   "outputs": [
    {
     "data": {
      "text/plain": [
       "[['2', '5'], ['3', '4'], ['6'], [''], ['6'], ['']]"
      ]
     },
     "execution_count": 28,
     "metadata": {},
     "output_type": "execute_result"
    }
   ],
   "source": [
    "#graph2=graph1.map(lambda x: x[1][0].split(\",\"))\n",
    "#graph2.collect()"
   ]
  },
  {
   "cell_type": "code",
   "execution_count": 155,
   "id": "618de82d",
   "metadata": {},
   "outputs": [
    {
     "data": {
      "text/plain": [
       "[['1', ['2,5', 'NOIR', 0]],\n",
       " ['2', ['', 'GRIS', 1]],\n",
       " ['5', ['', 'GRIS', 1]],\n",
       " ['2', ['3,4', 'BLANC', -1]],\n",
       " ['3', ['6', 'BLANC', -1]],\n",
       " ['4', ['', 'BLANC', -1]],\n",
       " ['5', ['6', 'BLANC', -1]],\n",
       " ['6', ['', 'BLANC', -1]]]"
      ]
     },
     "execution_count": 155,
     "metadata": {},
     "output_type": "execute_result"
    }
   ],
   "source": [
    "#LANCEMENT 1 \n",
    "\n",
    "def depth(g):\n",
    "    l = [] \n",
    "    k = g[0]# cle => nom du noeud\n",
    "    val = g[1] # valeur du noeud  \n",
    "    #node = g[1][0].split(\",\")\n",
    "    nd = g[1][0]# terminaison(s) du noeud \n",
    "    for v in g[0]:\n",
    "        if val[1] == 'GRIS':\n",
    "            # return  val[0], 'NOIR', int(val[2])\n",
    "            l.append([ k[0]  , [val[0], 'NOIR', int(val[2])]])\n",
    "            if nd > \"\":\n",
    "                node = g[1][0].split(\",\")\n",
    "                for n in node:\n",
    "                    l.append([n,['', 'GRIS', int(val[2])+1]])\n",
    "        else: \n",
    "            l.append([ k[0], [val[0], val[1], int(val[2])]] )\n",
    "    return l\n",
    "\n",
    "graph2=graph1.flatMap(depth)\n",
    "graph2.collect()"
   ]
  },
  {
   "cell_type": "code",
   "execution_count": 156,
   "id": "524f9ec1",
   "metadata": {},
   "outputs": [
    {
     "data": {
      "text/plain": [
       "[('1', ['2,5', 'NOIR', 0]),\n",
       " ('4', ['', 'BLANC', -1]),\n",
       " ('2', ('3,4', 'GRIS', 1)),\n",
       " ('5', ('6', 'GRIS', 1)),\n",
       " ('3', ['6', 'BLANC', -1]),\n",
       " ('6', ['', 'BLANC', -1])]"
      ]
     },
     "execution_count": 156,
     "metadata": {},
     "output_type": "execute_result"
    }
   ],
   "source": [
    "def reducer(a,b):\n",
    "    if a[2]>b[2]:\n",
    "        return b[0],'GRIS', a[2]\n",
    "    else:\n",
    "        return a[0],'GRIS', b[2]\n",
    "        \n",
    "graph3 = graph2.reduceByKey(reducer)\n",
    "graph3.collect()"
   ]
  },
  {
   "cell_type": "code",
   "execution_count": 157,
   "id": "b2bcacc4",
   "metadata": {},
   "outputs": [
    {
     "data": {
      "text/plain": [
       "[['1', ['2,5', 'NOIR', 0]],\n",
       " ['4', ['', 'BLANC', -1]],\n",
       " ['2', ['3,4', 'NOIR', 1]],\n",
       " ['3', ['', 'GRIS', 2]],\n",
       " ['4', ['', 'GRIS', 2]],\n",
       " ['5', ['6', 'NOIR', 1]],\n",
       " ['6', ['', 'GRIS', 2]],\n",
       " ['3', ['6', 'BLANC', -1]],\n",
       " ['6', ['', 'BLANC', -1]]]"
      ]
     },
     "execution_count": 157,
     "metadata": {},
     "output_type": "execute_result"
    }
   ],
   "source": [
    "#LANCEMENT 2\n",
    "graph4=graph3.flatMap(depth)\n",
    "graph4.collect()"
   ]
  },
  {
   "cell_type": "code",
   "execution_count": 158,
   "id": "b13e1409",
   "metadata": {},
   "outputs": [
    {
     "data": {
      "text/plain": [
       "[('1', ['2,5', 'NOIR', 0]),\n",
       " ('4', ('', 'GRIS', 2)),\n",
       " ('2', ['3,4', 'NOIR', 1]),\n",
       " ('3', ('6', 'GRIS', 2)),\n",
       " ('5', ['6', 'NOIR', 1]),\n",
       " ('6', ('', 'GRIS', 2))]"
      ]
     },
     "execution_count": 158,
     "metadata": {},
     "output_type": "execute_result"
    }
   ],
   "source": [
    "graph5 = graph4.reduceByKey(reducer)\n",
    "graph5.collect()"
   ]
  },
  {
   "cell_type": "code",
   "execution_count": 159,
   "id": "e70eb605",
   "metadata": {},
   "outputs": [
    {
     "data": {
      "text/plain": [
       "[['1', ['2,5', 'NOIR', 0]],\n",
       " ['4', ['', 'BLANC', -1]],\n",
       " ['2', ['3,4', 'NOIR', 1]],\n",
       " ['3', ['', 'NOIR', 2]],\n",
       " ['4', ['', 'NOIR', 2]],\n",
       " ['5', ['6', 'NOIR', 1]],\n",
       " ['6', ['', 'NOIR', 2]],\n",
       " ['3', ['6', 'BLANC', -1]],\n",
       " ['6', ['', 'BLANC', -1]]]"
      ]
     },
     "execution_count": 159,
     "metadata": {},
     "output_type": "execute_result"
    }
   ],
   "source": [
    "#LANCEMENT 3\n",
    "graph5=graph4.flatMap(depth)\n",
    "graph5.collect()"
   ]
  },
  {
   "cell_type": "code",
   "execution_count": 160,
   "id": "d1f491fc",
   "metadata": {},
   "outputs": [
    {
     "data": {
      "text/plain": [
       "[('1', ['2,5', 'NOIR', 0]),\n",
       " ('4', ('', 'GRIS', 2)),\n",
       " ('2', ['3,4', 'NOIR', 1]),\n",
       " ('3', ('6', 'GRIS', 2)),\n",
       " ('5', ['6', 'NOIR', 1]),\n",
       " ('6', ('', 'GRIS', 2))]"
      ]
     },
     "execution_count": 160,
     "metadata": {},
     "output_type": "execute_result"
    }
   ],
   "source": [
    "graph6 = graph5.reduceByKey(reducer)\n",
    "graph6.collect()"
   ]
  },
  {
   "cell_type": "markdown",
   "id": "cbd4f5e9",
   "metadata": {},
   "source": [
    "# VERSION 2 / Avec accumulateur"
   ]
  },
  {
   "cell_type": "code",
   "execution_count": 167,
   "id": "a69363c7",
   "metadata": {},
   "outputs": [],
   "source": [
    "file=sc.textFile('./graph_input.txt')\n",
    "graph =file.flatMap(lambda x: [x.split(\"\\t\")])\n",
    "graph1 =graph.flatMap(lambda x: [[[x[0]], x[1].split(\"|\")]])"
   ]
  },
  {
   "cell_type": "code",
   "execution_count": 193,
   "id": "5931837c",
   "metadata": {},
   "outputs": [],
   "source": [
    "#mapper\n",
    "\n",
    "# Compteur graphe non noir\n",
    "nb_no_blck =sc.accumulator(0)\n",
    "\n",
    "def mapper(g):\n",
    "    global nb_no_blck\n",
    "    l = [] \n",
    "    k = g[0]# cle => nom du noeud\n",
    "    val = g[1] # valeur du noeud  \n",
    "    nd = g[1][0]# terminaison(s) du noeud \n",
    "    for v in g[0]:\n",
    "        if val[1] != 'NOIR':\n",
    "            nb_no_blck.add(1)\n",
    "        if val[1] == 'GRIS':\n",
    "            l.append([ k[0]  , [val[0], 'NOIR', int(val[2])]])\n",
    "            if nd > \"\":\n",
    "                node = g[1][0].split(\",\")\n",
    "                for n in node:\n",
    "                    l.append([n,['', 'GRIS', int(val[2])+1]])\n",
    "        else: \n",
    "            l.append([ k[0], [val[0], val[1], int(val[2])]] )\n",
    "    return l"
   ]
  },
  {
   "cell_type": "code",
   "execution_count": 194,
   "id": "7ec12c8d",
   "metadata": {},
   "outputs": [],
   "source": [
    "#reducer\n",
    "def reducer(a,b):\n",
    "    if a[2]>b[2]:\n",
    "        return b[0],'GRIS', a[2]\n",
    "    else:\n",
    "        return a[0],'GRIS', b[2]"
   ]
  },
  {
   "cell_type": "code",
   "execution_count": 171,
   "id": "b4521cd4",
   "metadata": {},
   "outputs": [],
   "source": [
    "graph2=graph1.flatMap(mapper)\n",
    "graph3 = graph2.reduceByKey(reducer)"
   ]
  },
  {
   "cell_type": "code",
   "execution_count": 172,
   "id": "0a25106b",
   "metadata": {},
   "outputs": [
    {
     "data": {
      "text/plain": [
       "[('1', ['2,5', 'NOIR', 0]),\n",
       " ('4', ['', 'BLANC', -1]),\n",
       " ('2', ('3,4', 'GRIS', 1)),\n",
       " ('5', ('6', 'GRIS', 1)),\n",
       " ('3', ['6', 'BLANC', -1]),\n",
       " ('6', ['', 'BLANC', -1])]"
      ]
     },
     "execution_count": 172,
     "metadata": {},
     "output_type": "execute_result"
    }
   ],
   "source": [
    "graph3.collect()"
   ]
  },
  {
   "cell_type": "code",
   "execution_count": 204,
   "id": "5895f965",
   "metadata": {},
   "outputs": [],
   "source": [
    "nb_no_blck = sc.accumulator(1)\n",
    "\n",
    "def main():\n",
    "    file=sc.textFile('./graph_input.txt')\n",
    "    graph =file.flatMap(lambda x: [x.split(\"\\t\")])\n",
    "    graph1 = graph.flatMap(lambda x: [[[x[0]], x[1].split(\"|\")]])\n",
    "    #nb_no_blck = sc.accumulator(1)\n",
    "    tmp = 0\n",
    "    while nb_no_blck.value > tmp:\n",
    "        tmp = nb_no_blck.value # variable temporaire\n",
    "        graph2 = graph1.flatMap(mapper)# transformation\n",
    "        graph3 = graph2.reduceByKey(reducer) # transformation\n",
    "        graph3.count()  # action\n",
    "        graph1 = graph3\n",
    "        print(f\"var temp ==> {tmp}\")\n",
    "        print(f\"var nb_no_blck ==> {nb_no_blck.value}\")\n",
    "    return graph3"
   ]
  },
  {
   "cell_type": "code",
   "execution_count": 205,
   "id": "5bd864c5",
   "metadata": {},
   "outputs": [
    {
     "name": "stdout",
     "output_type": "stream",
     "text": [
      "var temp ==> 1\n",
      "var nb_no_blck ==> 7\n",
      "var temp ==> 7\n",
      "var nb_no_blck ==> 12\n",
      "var temp ==> 12\n",
      "var nb_no_blck ==> 15\n",
      "var temp ==> 15\n",
      "var nb_no_blck ==> 16\n",
      "var temp ==> 16\n",
      "var nb_no_blck ==> 16\n"
     ]
    },
    {
     "data": {
      "text/plain": [
       "[('1', ['2,5', 'NOIR', 0]),\n",
       " ('4', ['', 'NOIR', 2]),\n",
       " ('2', ['3,4', 'NOIR', 1]),\n",
       " ('3', ['6', 'NOIR', 2]),\n",
       " ('6', ['', 'NOIR', 3]),\n",
       " ('5', ['6', 'NOIR', 1])]"
      ]
     },
     "execution_count": 205,
     "metadata": {},
     "output_type": "execute_result"
    }
   ],
   "source": [
    "graph = main()\n",
    "graph.collect()"
   ]
  },
  {
   "cell_type": "code",
   "execution_count": null,
   "id": "a7e61161",
   "metadata": {},
   "outputs": [],
   "source": []
  }
 ],
 "metadata": {
  "kernelspec": {
   "display_name": "Python 3 (ipykernel)",
   "language": "python",
   "name": "python3"
  },
  "language_info": {
   "codemirror_mode": {
    "name": "ipython",
    "version": 3
   },
   "file_extension": ".py",
   "mimetype": "text/x-python",
   "name": "python",
   "nbconvert_exporter": "python",
   "pygments_lexer": "ipython3",
   "version": "3.7.9"
  }
 },
 "nbformat": 4,
 "nbformat_minor": 5
}
